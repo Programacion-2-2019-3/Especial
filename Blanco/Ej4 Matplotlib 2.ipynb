{
 "cells": [
  {
   "cell_type": "code",
   "execution_count": 5,
   "metadata": {},
   "outputs": [
    {
     "name": "stdout",
     "output_type": "stream",
     "text": [
      "[2 0]\n",
      "[1 6]\n",
      "[-8  0]\n",
      "[  9 -10]\n",
      "[[array([ 4, -1]), array([0, 2])], [array([ 2, -1]), array([-10,  -5])], [array([ 5, -4]), array([-5, -7])], [array([-9, -7]), array([5, 6])], [array([-3, -7]), array([5, 5])], [array([ 6, -5]), array([-9,  0])]]\n",
      "[array([ 5, -4]), array([-5, -7])]\n",
      "[ 5 -4] [-5 -7]\n",
      "6\n"
     ]
    }
   ],
   "source": [
    "import numpy as np\n",
    "import matplotlib as mpl\n",
    "\n",
    "%matplotlib inline\n",
    "\n",
    "x0 = np.random.randint(-10,10,size=2)\n",
    "x1 = np.random.randint(-10,10,size=2)\n",
    "x2 = np.random.randint(-10,10,size=2)\n",
    "x3 = np.random.randint(-10,10,size=2)\n",
    "print (x0)\n",
    "print (x1)\n",
    "print (x2)\n",
    "print (x3)\n",
    "\n",
    "puntos = []\n",
    "#puntos = np.array()\n",
    "\n",
    "for i in range(6):\n",
    "    x0 = np.random.randint(-10,10,size=2)\n",
    "    x1 = np.random.randint(-10,10,size=2)\n",
    "    puntos.append([x0,x1])\n",
    "    #print(i)\n",
    "print(puntos)\n",
    "print(puntos[2])\n",
    "print(puntos[2][0],puntos[2][1])\n",
    "print(len(puntos))\n",
    "\n",
    "for i in range(len(puntos)):\n",
    "    \n",
    "    \n",
    "    pass\n",
    "    "
   ]
  },
  {
   "cell_type": "code",
   "execution_count": 6,
   "metadata": {},
   "outputs": [],
   "source": [
    "def recta(a1,a2):\n",
    "    m = (a1[1]-a2[1])/(a1[0]-a2[0])\n",
    "    b = m*a1[0] + a2[1]\n",
    "    return m, b\n",
    "    #if m!=0 and b==b:\n",
    "     #   return m, b\n",
    "    #else:\n",
    "     #   m=0, b\n",
    "    \n",
    "m1, b1 = recta(x0, x1)\n",
    "m2, b2 = recta(x0, x2)\n",
    "m3, b3 = recta(x0, x3)\n",
    "m4, b4 = recta(x1, x2)\n",
    "m5, b5 = recta(x1, x3)\n",
    "m6, b6 = recta(x2, x3)\n",
    "\n",
    "def inter(a1, a2, a3, a4):\n",
    "    a=(a4 - a2)/(a3 - a1)\n",
    "    return a\n"
   ]
  },
  {
   "cell_type": "code",
   "execution_count": 7,
   "metadata": {},
   "outputs": [],
   "source": [
    "x = np.linspace(-10,10,50)\n",
    "y1 = m1*x + b1\n",
    "y2 = m2*x + b2\n",
    "y3 = m3*x + b3\n",
    "y4 = m4*x + b4\n",
    "y5 = m5*x + b5\n",
    "y6 = m6*x + b6"
   ]
  },
  {
   "cell_type": "code",
   "execution_count": 8,
   "metadata": {},
   "outputs": [
    {
     "data": {
      "text/plain": [
       "[<matplotlib.lines.Line2D at 0x1cf3e712e08>,\n",
       " <matplotlib.lines.Line2D at 0x1cf3b3710c8>,\n",
       " <matplotlib.lines.Line2D at 0x1cf3e72f948>,\n",
       " <matplotlib.lines.Line2D at 0x1cf3e72fb88>,\n",
       " <matplotlib.lines.Line2D at 0x1cf3e72fe48>,\n",
       " <matplotlib.lines.Line2D at 0x1cf3e72ffc8>]"
      ]
     },
     "execution_count": 8,
     "metadata": {},
     "output_type": "execute_result"
    },
    {
     "data": {
      "image/png": "[encoded data removed]",
      "text/plain": [
       "<Figure size 432x288 with 1 Axes>"
      ]
     },
     "metadata": {
      "needs_background": "light"
     },
     "output_type": "display_data"
    }
   ],
   "source": [
    "\n",
    "mpl.pyplot.plot(x, y1, '.', x, y2, '*', x, y3, 'o', x, y4, 'v', x, y5, '^', x, y6, 's')\n",
    "\n"
   ]
  },
  {
   "cell_type": "code",
   "execution_count": null,
   "metadata": {},
   "outputs": [],
   "source": []
  }
 ],
 "metadata": {
  "kernelspec": {
   "display_name": "Python 3",
   "language": "python",
   "name": "python3"
  },
  "language_info": {
   "codemirror_mode": {
    "name": "ipython",
    "version": 3
   },
   "file_extension": ".py",
   "mimetype": "text/x-python",
   "name": "python",
   "nbconvert_exporter": "python",
   "pygments_lexer": "ipython3",
   "version": "3.7.4"
  }
 },
 "nbformat": 4,
 "nbformat_minor": 4
}
