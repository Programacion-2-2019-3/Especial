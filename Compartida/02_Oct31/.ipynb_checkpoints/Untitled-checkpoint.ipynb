{
 "cells": [
  {
   "cell_type": "markdown",
   "metadata": {},
   "source": [
    "## Creando funciones"
   ]
  },
  {
   "cell_type": "code",
   "execution_count": 8,
   "metadata": {},
   "outputs": [
    {
     "name": "stdout",
     "output_type": "stream",
     "text": [
      "aleatorios:  [ 3  2  3  1  0  2 -4 -4 -4 -5]\n"
     ]
    }
   ],
   "source": [
    "import numpy as np\n",
    "\n",
    "# generar algunos aleatorios\n",
    "n = 10\n",
    "limite = 5\n",
    "n1 = np.random.randint(-limite,limite,n) # genera n números aleatorios enteros en el rango [-limite,limite)\n",
    "print('aleatorios: ',n1)"
   ]
  },
  {
   "cell_type": "markdown",
   "metadata": {},
   "source": [
    "Se crea una función que muestre la cantidad de veces que aparece un determinado número dentro de la lista"
   ]
  },
  {
   "cell_type": "code",
   "execution_count": 13,
   "metadata": {},
   "outputs": [
    {
     "name": "stdout",
     "output_type": "stream",
     "text": [
      "El número 3 aparece 2 veces\n"
     ]
    }
   ],
   "source": [
    "def contar_n(arreglo,n = 0):\n",
    "    z = arreglo == n\n",
    "    return np.sum(z)\n",
    "x0 = 3\n",
    "print('El número',x0,'aparece',contar_n(n1,x0),'veces')\n"
   ]
  },
  {
   "cell_type": "code",
   "execution_count": null,
   "metadata": {},
   "outputs": [],
   "source": []
  }
 ],
 "metadata": {
  "kernelspec": {
   "display_name": "Python 3",
   "language": "python",
   "name": "python3"
  },
  "language_info": {
   "codemirror_mode": {
    "name": "ipython",
    "version": 3
   },
   "file_extension": ".py",
   "mimetype": "text/x-python",
   "name": "python",
   "nbconvert_exporter": "python",
   "pygments_lexer": "ipython3",
   "version": "3.7.3"
  }
 },
 "nbformat": 4,
 "nbformat_minor": 2
}
